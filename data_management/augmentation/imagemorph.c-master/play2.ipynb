{
 "cells": [
  {
   "cell_type": "code",
   "execution_count": 26,
   "metadata": {},
   "outputs": [
    {
     "ename": "FileNotFoundError",
     "evalue": "Could not find module 'c:\\Users\\danie\\Desktop\\FSE 22-23\\Handwriting Recognition\\imagemorph.c-master\\Users\\danie\\Desktop\\FSE 22-23\\Handwriting Recognition\\imagemorph.c-master\\imagemorph.so' (or one of its dependencies). Try using the full path with constructor syntax.",
     "output_type": "error",
     "traceback": [
      "\u001b[1;31m---------------------------------------------------------------------------\u001b[0m",
      "\u001b[1;31mFileNotFoundError\u001b[0m                         Traceback (most recent call last)",
      "\u001b[1;32mc:\\Users\\danie\\Desktop\\FSE 22-23\\Handwriting Recognition\\imagemorph.c-master\\play2.ipynb Cell 1\u001b[0m in \u001b[0;36m1\n\u001b[0;32m      <a href='vscode-notebook-cell:/c%3A/Users/danie/Desktop/FSE%2022-23/Handwriting%20Recognition/imagemorph.c-master/play2.ipynb#W0sZmlsZQ%3D%3D?line=5'>6</a>\u001b[0m libfile \u001b[39m=\u001b[39m glob\u001b[39m.\u001b[39mglob(\u001b[39m'\u001b[39m\u001b[39mimagemorph*.so\u001b[39m\u001b[39m'\u001b[39m)\n\u001b[0;32m      <a href='vscode-notebook-cell:/c%3A/Users/danie/Desktop/FSE%2022-23/Handwriting%20Recognition/imagemorph.c-master/play2.ipynb#W0sZmlsZQ%3D%3D?line=7'>8</a>\u001b[0m libname \u001b[39m=\u001b[39m \u001b[39m\"\u001b[39m\u001b[39mUsers/danie/Desktop/FSE 22-23/Handwriting Recognition/imagemorph.c-master/imagemorph.so\u001b[39m\u001b[39m\"\u001b[39m\n\u001b[1;32m---> <a href='vscode-notebook-cell:/c%3A/Users/danie/Desktop/FSE%2022-23/Handwriting%20Recognition/imagemorph.c-master/play2.ipynb#W0sZmlsZQ%3D%3D?line=9'>10</a>\u001b[0m c_lib \u001b[39m=\u001b[39m CDLL(libname)\n",
      "File \u001b[1;32mc:\\Users\\danie\\AppData\\Local\\Programs\\Python\\Python311\\Lib\\ctypes\\__init__.py:376\u001b[0m, in \u001b[0;36mCDLL.__init__\u001b[1;34m(self, name, mode, handle, use_errno, use_last_error, winmode)\u001b[0m\n\u001b[0;32m    373\u001b[0m \u001b[39mself\u001b[39m\u001b[39m.\u001b[39m_FuncPtr \u001b[39m=\u001b[39m _FuncPtr\n\u001b[0;32m    375\u001b[0m \u001b[39mif\u001b[39;00m handle \u001b[39mis\u001b[39;00m \u001b[39mNone\u001b[39;00m:\n\u001b[1;32m--> 376\u001b[0m     \u001b[39mself\u001b[39m\u001b[39m.\u001b[39m_handle \u001b[39m=\u001b[39m _dlopen(\u001b[39mself\u001b[39;49m\u001b[39m.\u001b[39;49m_name, mode)\n\u001b[0;32m    377\u001b[0m \u001b[39melse\u001b[39;00m:\n\u001b[0;32m    378\u001b[0m     \u001b[39mself\u001b[39m\u001b[39m.\u001b[39m_handle \u001b[39m=\u001b[39m handle\n",
      "\u001b[1;31mFileNotFoundError\u001b[0m: Could not find module 'c:\\Users\\danie\\Desktop\\FSE 22-23\\Handwriting Recognition\\imagemorph.c-master\\Users\\danie\\Desktop\\FSE 22-23\\Handwriting Recognition\\imagemorph.c-master\\imagemorph.so' (or one of its dependencies). Try using the full path with constructor syntax."
     ]
    }
   ],
   "source": [
    "import ctypes\n",
    "import pathlib\n",
    "from ctypes import *\n",
    "\n",
    "import glob\n",
    "libfile = glob.glob('imagemorph*.so')\n",
    "\n",
    "libname = \"Users/danie/Desktop/FSE 22-23/Handwriting Recognition/imagemorph.c-master/imagemorph.so\"\n",
    "\n",
    "c_lib = CDLL(libname)"
   ]
  },
  {
   "cell_type": "code",
   "execution_count": 23,
   "metadata": {},
   "outputs": [
    {
     "data": {
      "text/plain": [
       "'Users/danie/Desktop/FSE 22-23/Handwriting Recognition/imagemorph.c-master/imagemorph.so'"
      ]
     },
     "execution_count": 23,
     "metadata": {},
     "output_type": "execute_result"
    }
   ],
   "source": [
    "libname"
   ]
  }
 ],
 "metadata": {
  "kernelspec": {
   "display_name": "Python 3",
   "language": "python",
   "name": "python3"
  },
  "language_info": {
   "codemirror_mode": {
    "name": "ipython",
    "version": 3
   },
   "file_extension": ".py",
   "mimetype": "text/x-python",
   "name": "python",
   "nbconvert_exporter": "python",
   "pygments_lexer": "ipython3",
   "version": "3.10.9"
  },
  "orig_nbformat": 4
 },
 "nbformat": 4,
 "nbformat_minor": 2
}
