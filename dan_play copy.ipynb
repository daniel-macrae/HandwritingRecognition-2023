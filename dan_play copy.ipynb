{
 "cells": [
  {
   "cell_type": "code",
   "execution_count": 2,
   "metadata": {},
   "outputs": [
    {
     "name": "stdout",
     "output_type": "stream",
     "text": [
      "300 Alef\n",
      "300 Ayin\n",
      "300 Bet\n",
      "91 Dalet\n",
      "300 Gimel\n",
      "300 He\n",
      "300 Het\n",
      "193 Kaf\n",
      "10 Kaf-final\n",
      "294 Lamed\n",
      "300 Mem\n",
      "300 Mem-medial\n",
      "130 Nun-final\n",
      "300 Nun-medial\n",
      "37 Pe\n",
      "15 Pe-final\n",
      "265 Qof\n",
      "78 Resh\n",
      "300 Samekh\n",
      "300 Shin\n",
      "300 Taw\n",
      "300 Tet\n",
      "73 Tsadi-final\n",
      "300 Tsadi-medial\n",
      "116 Waw\n",
      "23 Yod\n",
      "12 Zayin\n"
     ]
    }
   ],
   "source": [
    "import os\n",
    "\n",
    "root = \"monkbrill2\"\n",
    "for letterFolder in os.listdir(root):\n",
    "    path = os.path.join(root, letterFolder)\n",
    "    files = os.listdir(path)\n",
    "    print(len(files), letterFolder)"
   ]
  },
  {
   "cell_type": "code",
   "execution_count": 1,
   "metadata": {},
   "outputs": [
    {
     "name": "stdout",
     "output_type": "stream",
     "text": [
      "'processing image 0 out of 20'\n",
      "(2706, 3608, 3)\n"
     ]
    },
    {
     "ename": "AttributeError",
     "evalue": "'int' object has no attribute 'write'",
     "output_type": "error",
     "traceback": [
      "\u001b[1;31m---------------------------------------------------------------------------\u001b[0m",
      "\u001b[1;31mAttributeError\u001b[0m                            Traceback (most recent call last)",
      "\u001b[1;32mc:\\Users\\danie\\Desktop\\FSE 22-23\\HandwritingRecognition-2023\\dan_play copy.ipynb Cell 2\u001b[0m in \u001b[0;36m5\n\u001b[0;32m      <a href='vscode-notebook-cell:/c%3A/Users/danie/Desktop/FSE%2022-23/HandwritingRecognition-2023/dan_play%20copy.ipynb#W1sZmlsZQ%3D%3D?line=1'>2</a>\u001b[0m \u001b[39mimport\u001b[39;00m \u001b[39mmatplotlib\u001b[39;00m\u001b[39m.\u001b[39;00m\u001b[39mpyplot\u001b[39;00m \u001b[39mas\u001b[39;00m \u001b[39mplt\u001b[39;00m\n\u001b[0;32m      <a href='vscode-notebook-cell:/c%3A/Users/danie/Desktop/FSE%2022-23/HandwritingRecognition-2023/dan_play%20copy.ipynb#W1sZmlsZQ%3D%3D?line=3'>4</a>\u001b[0m segmenter \u001b[39m=\u001b[39m Segment(input_folder\u001b[39m=\u001b[39m\u001b[39m\"\u001b[39m\u001b[39mimage-data\u001b[39m\u001b[39m\"\u001b[39m)\n\u001b[1;32m----> <a href='vscode-notebook-cell:/c%3A/Users/danie/Desktop/FSE%2022-23/HandwritingRecognition-2023/dan_play%20copy.ipynb#W1sZmlsZQ%3D%3D?line=4'>5</a>\u001b[0m morph \u001b[39m=\u001b[39m segmenter\u001b[39m.\u001b[39;49msegment_characters()\n",
      "File \u001b[1;32mc:\\Users\\danie\\Desktop\\FSE 22-23\\HandwritingRecognition-2023\\segment.py:43\u001b[0m, in \u001b[0;36mSegment.segment_characters\u001b[1;34m(self, real_data, generated_data)\u001b[0m\n\u001b[0;32m     40\u001b[0m \u001b[39mprint\u001b[39m(img\u001b[39m.\u001b[39mshape)\n\u001b[0;32m     42\u001b[0m \u001b[39mfor\u001b[39;00m idx, label \u001b[39min\u001b[39;00m \u001b[39menumerate\u001b[39m(\u001b[39mrange\u001b[39m(\u001b[39m1\u001b[39m, ret)):\n\u001b[1;32m---> 43\u001b[0m     \u001b[39mprint\u001b[39;49m(\u001b[39m\"\u001b[39;49m\u001b[39mindex=\u001b[39;49m\u001b[39m\"\u001b[39;49m, idx)\n\u001b[0;32m     44\u001b[0m     component \u001b[39m=\u001b[39m np\u001b[39m.\u001b[39muint8(labels \u001b[39m==\u001b[39m label) \u001b[39m*\u001b[39m \u001b[39m255\u001b[39m\n\u001b[0;32m     45\u001b[0m     contours, _ \u001b[39m=\u001b[39m cv2\u001b[39m.\u001b[39mfindContours(component, cv2\u001b[39m.\u001b[39mRETR_EXTERNAL, cv2\u001b[39m.\u001b[39mCHAIN_APPROX_NONE)\n",
      "File \u001b[1;32m~\\AppData\\Local\\Programs\\Python\\Python311\\Lib\\pprint.py:55\u001b[0m, in \u001b[0;36mpprint\u001b[1;34m(object, stream, indent, width, depth, compact, sort_dicts, underscore_numbers)\u001b[0m\n\u001b[0;32m     50\u001b[0m \u001b[39m\"\"\"Pretty-print a Python object to a stream [default is sys.stdout].\"\"\"\u001b[39;00m\n\u001b[0;32m     51\u001b[0m printer \u001b[39m=\u001b[39m PrettyPrinter(\n\u001b[0;32m     52\u001b[0m     stream\u001b[39m=\u001b[39mstream, indent\u001b[39m=\u001b[39mindent, width\u001b[39m=\u001b[39mwidth, depth\u001b[39m=\u001b[39mdepth,\n\u001b[0;32m     53\u001b[0m     compact\u001b[39m=\u001b[39mcompact, sort_dicts\u001b[39m=\u001b[39msort_dicts,\n\u001b[0;32m     54\u001b[0m     underscore_numbers\u001b[39m=\u001b[39munderscore_numbers)\n\u001b[1;32m---> 55\u001b[0m printer\u001b[39m.\u001b[39;49mpprint(\u001b[39mobject\u001b[39;49m)\n",
      "File \u001b[1;32m~\\AppData\\Local\\Programs\\Python\\Python311\\Lib\\pprint.py:153\u001b[0m, in \u001b[0;36mPrettyPrinter.pprint\u001b[1;34m(self, object)\u001b[0m\n\u001b[0;32m    151\u001b[0m \u001b[39mdef\u001b[39;00m \u001b[39mpprint\u001b[39m(\u001b[39mself\u001b[39m, \u001b[39mobject\u001b[39m):\n\u001b[0;32m    152\u001b[0m     \u001b[39mif\u001b[39;00m \u001b[39mself\u001b[39m\u001b[39m.\u001b[39m_stream \u001b[39mis\u001b[39;00m \u001b[39mnot\u001b[39;00m \u001b[39mNone\u001b[39;00m:\n\u001b[1;32m--> 153\u001b[0m         \u001b[39mself\u001b[39;49m\u001b[39m.\u001b[39;49m_format(\u001b[39mobject\u001b[39;49m, \u001b[39mself\u001b[39;49m\u001b[39m.\u001b[39;49m_stream, \u001b[39m0\u001b[39;49m, \u001b[39m0\u001b[39;49m, {}, \u001b[39m0\u001b[39;49m)\n\u001b[0;32m    154\u001b[0m         \u001b[39mself\u001b[39m\u001b[39m.\u001b[39m_stream\u001b[39m.\u001b[39mwrite(\u001b[39m\"\u001b[39m\u001b[39m\\n\u001b[39;00m\u001b[39m\"\u001b[39m)\n",
      "File \u001b[1;32m~\\AppData\\Local\\Programs\\Python\\Python311\\Lib\\pprint.py:194\u001b[0m, in \u001b[0;36mPrettyPrinter._format\u001b[1;34m(self, object, stream, indent, allowance, context, level)\u001b[0m\n\u001b[0;32m    192\u001b[0m         \u001b[39mdel\u001b[39;00m context[objid]\n\u001b[0;32m    193\u001b[0m         \u001b[39mreturn\u001b[39;00m\n\u001b[1;32m--> 194\u001b[0m stream\u001b[39m.\u001b[39;49mwrite(rep)\n",
      "\u001b[1;31mAttributeError\u001b[0m: 'int' object has no attribute 'write'"
     ]
    }
   ],
   "source": [
    "from segment import Segment\n",
    "import matplotlib.pyplot as plt\n",
    "\n",
    "segmenter = Segment(input_folder=\"image-data\")\n",
    "morph = segmenter.segment_characters()"
   ]
  },
  {
   "cell_type": "code",
   "execution_count": 1,
   "metadata": {},
   "outputs": [
    {
     "name": "stdout",
     "output_type": "stream",
     "text": [
      "'processing image 0 out of 20'\n",
      "'processing image 1 out of 20'\n",
      "'processing image 2 out of 20'\n",
      "'processing image 3 out of 20'\n",
      "'processing image 4 out of 20'\n",
      "'processing image 5 out of 20'\n",
      "'processing image 6 out of 20'\n",
      "'processing image 7 out of 20'\n",
      "'processing image 8 out of 20'\n",
      "'processing image 9 out of 20'\n",
      "'processing image 10 out of 20'\n",
      "'processing image 11 out of 20'\n",
      "'processing image 12 out of 20'\n",
      "'processing image 13 out of 20'\n",
      "'processing image 14 out of 20'\n",
      "'processing image 15 out of 20'\n",
      "'processing image 16 out of 20'\n",
      "'processing image 17 out of 20'\n",
      "'processing image 18 out of 20'\n",
      "'processing image 19 out of 20'\n"
     ]
    }
   ],
   "source": [
    "from segment import Segment\n",
    "\n",
    "#if __name__ == \"__main__\":\n",
    "    #a = Segment()\n",
    "    #a = Segment(\"/home/lucypher/Desktop/HandRec/Project/image-data/image-data\")\n",
    "a = Segment(\"image-data\")\n",
    "a.segment_characters(real_data=True, generated_data=False)"
   ]
  },
  {
   "cell_type": "code",
   "execution_count": null,
   "metadata": {},
   "outputs": [],
   "source": [
    "cv2.im"
   ]
  },
  {
   "cell_type": "code",
   "execution_count": 21,
   "metadata": {},
   "outputs": [
    {
     "data": {
      "image/png": "[encoded data removed]",
      "text/plain": [
       "<Figure size 640x480 with 1 Axes>"
      ]
     },
     "metadata": {},
     "output_type": "display_data"
    },
    {
     "data": {
      "image/png": "[encoded data removed]",
      "text/plain": [
       "<Figure size 640x480 with 1 Axes>"
      ]
     },
     "metadata": {},
     "output_type": "display_data"
    }
   ],
   "source": [
    "import cv2\n",
    "import numpy as np\n",
    "import matplotlib.pyplot as plt\n",
    "\n",
    "# crops the image down to only where the text is (i.e. removes whitespace)\n",
    "# 'padding' indicates how many pixels of whitespace to keep around the far edges of boudning box containing all of the text\n",
    "def whitespaceRemover(filename, padding=10):  \n",
    "    gray = cv2.imread(filename, cv2.IMREAD_GRAYSCALE) # Read in the image and convert to grayscale\n",
    "    imHeight, imWidth = gray.shape # get the image dimensions\n",
    "    \n",
    "    gray = 255*(gray < 128).astype(np.uint8) # To invert the text to white\n",
    "    gray = cv2.morphologyEx(gray, cv2.MORPH_OPEN, np.ones((2, 2), dtype=np.uint8)) # Perform noise filtering\n",
    "    coords = cv2.findNonZero(gray) # Find all non-zero points (text)\n",
    "    x, y, w, h = cv2.boundingRect(coords) # Find minimum spanning bounding box\n",
    "\n",
    "    # pad each side\n",
    "    y_min = y-padding if y-padding>=0 else 0\n",
    "    y_max = y+h+padding if y+h+padding<=imHeight else imHeight\n",
    "    x_min = x-padding if x-padding>=0 else 0\n",
    "    x_max = x+w+padding if x+w+padding<=imWidth else imWidth\n",
    "\n",
    "    rect = img[y_min:y_max, x_min:x_max] # Crop the image - note we do this on the original image\n",
    "    \n",
    "    return rect\n",
    "\n",
    "path = \"Data/Letters/train/Nun-final/Nun-final_12_348.png\"\n",
    "img = cv2.imread(path, cv2.IMREAD_GRAYSCALE)\n",
    "plt.imshow(img)\n",
    "plt.show()\n",
    "img = whitespaceRemover(path)\n",
    "plt.imshow(img)\n",
    "plt.show()"
   ]
  },
  {
   "attachments": {},
   "cell_type": "markdown",
   "metadata": {},
   "source": [
    "# Removing duplicates"
   ]
  },
  {
   "cell_type": "code",
   "execution_count": 38,
   "metadata": {},
   "outputs": [
    {
     "data": {
      "text/plain": [
       "2"
      ]
     },
     "execution_count": 38,
     "metadata": {},
     "output_type": "execute_result"
    }
   ],
   "source": [
    "temp = [True, False, True]\n",
    "sum(temp)"
   ]
  },
  {
   "cell_type": "code",
   "execution_count": 127,
   "metadata": {},
   "outputs": [
    {
     "name": "stdout",
     "output_type": "stream",
     "text": [
      "kept, discarded, letter class\n",
      "255 45 Alef\n",
      "248 52 Ayin\n",
      "250 50 Bet\n",
      "74 17 Dalet\n",
      "253 47 Gimel\n",
      "259 41 He\n",
      "247 53 Het\n",
      "169 24 Kaf\n",
      "9 1 Kaf-final\n",
      "276 18 Lamed\n",
      "256 44 Mem\n",
      "245 55 Mem-medial\n",
      "122 8 Nun-final\n",
      "253 47 Nun-medial\n",
      "30 7 Pe\n",
      "15 0 Pe-final\n",
      "234 31 Qof\n",
      "66 12 Resh\n",
      "249 51 Samekh\n",
      "220 80 Shin\n",
      "230 70 Taw\n",
      "228 72 Tet\n",
      "62 11 Tsadi-final\n",
      "230 70 Tsadi-medial\n",
      "100 16 Waw\n",
      "18 5 Yod\n",
      "11 1 Zayin\n"
     ]
    }
   ],
   "source": [
    "import os\n",
    "from collections import Counter\n",
    "import shutil\n",
    "import matplotlib.pyplot as plt\n",
    "\n",
    "goodOutputsFolder = \"Data\\\\letters_temp\"\n",
    "os.makedirs(goodOutputsFolder, exist_ok = True)\n",
    "badOutputsFolder = \"Data\\\\shit\"\n",
    "os.makedirs(badOutputsFolder, exist_ok = True)\n",
    "\n",
    "root = \"monkbrill2/\"\n",
    "extracts = []\n",
    "shapesDict = {}\n",
    "\n",
    "positionThreshold = 50\n",
    "dimensionThreshold = 5\n",
    "\n",
    "kept_list = []\n",
    "discarded_list = []\n",
    "letter_classes = []\n",
    "\n",
    "print(\"kept, discarded, letter class\")\n",
    "\n",
    "for folder in os.listdir(root):\n",
    "    discarded = 0\n",
    "    kept = 0\n",
    "    folder_path = os.path.join(root, folder)\n",
    "    \n",
    "    for filename in os.listdir(folder_path):\n",
    "        split = filename.split(\"-\")[9:13]\n",
    "        file_path = os.path.join(folder_path, filename)\n",
    "\n",
    "        target_folder = os.path.join(goodOutputsFolder, folder)\n",
    "        os.makedirs(target_folder, exist_ok = True)\n",
    "        target_file_path = os.path.join(target_folder, filename)\n",
    "\n",
    "        try: # there are two files in the whole monkbrill2 folder that have a different naming convention (but they are both safe to keep without dataset leakage)\n",
    "\n",
    "            x_pos, y_pos = int(split[0].split(\"=\")[1]), int(split[1].split(\"=\")[1])\n",
    "            width, height = int(split[2].split(\"=\")[1]), int(split[3].split(\"=\")[1])\n",
    "        \n",
    "            extract_file = filename.split(\"-\")[2]  # which DSS extract this letter image came from\n",
    "\n",
    "            if extract_file in shapesDict.keys():\n",
    "                seen_before = False\n",
    "                for know_img in shapesDict[extract_file]:\n",
    "                    [known_x, known_y, known_width, known_height] = know_img\n",
    "                    # if their x, y positions are similar, AND they have similar image dimensions; ignore this image\n",
    "                    if abs(known_x - x_pos) < positionThreshold and abs(known_width - width) < dimensionThreshold:\n",
    "                        if abs(known_y - y_pos) < positionThreshold and abs(known_height - height) < dimensionThreshold:\n",
    "                            seen_before = True\n",
    "                            break\n",
    "                                \n",
    "                if not seen_before:\n",
    "                    shapesDict[extract_file].append([x_pos, y_pos, width, height])\n",
    "                    shutil.copy(file_path, target_file_path)\n",
    "                    kept +=1\n",
    "                else: \n",
    "                    discarded += 1\n",
    "                    target_file_path = os.path.join(badOutputsFolder, filename)\n",
    "                    shutil.copy(file_path, target_file_path)\n",
    "\n",
    "            else:\n",
    "                shapesDict[extract_file] = [[x_pos, y_pos, width, height]]\n",
    "                kept +=1\n",
    "                \n",
    "                shutil.copy(file_path, target_file_path)\n",
    "        #extracts.append(split2)\n",
    "        #print(x_pos, y_pos)\n",
    "        #print(width, height)\n",
    "        except:\n",
    "            #print(filename)\n",
    "            kept +=1\n",
    "            shutil.copy(file_path, target_file_path)\n",
    "\n",
    "\n",
    "    print(kept, discarded, folder)\n",
    "    kept_list.append(kept)\n",
    "    discarded_list.append(discarded)\n",
    "    letter_classes.append(folder)"
   ]
  },
  {
   "cell_type": "code",
   "execution_count": 128,
   "metadata": {},
   "outputs": [
    {
     "data": {
      "image/png": "[encoded data removed]",
      "text/plain": [
       "<Figure size 640x480 with 1 Axes>"
      ]
     },
     "metadata": {},
     "output_type": "display_data"
    }
   ],
   "source": [
    "#p1 = plt.bar(letter_classes, kept_list, width, color='b')\n",
    "#p2 = plt.bar(letter_classes, discarded_list, width, bottom=kept_list, color='r')\n",
    "\n",
    "fig, ax = plt.subplots()\n",
    "\n",
    "# Stacked bar chart\n",
    "ax.bar(letter_classes, kept_list)\n",
    "ax.bar(letter_classes, discarded_list, bottom = kept_list)\n",
    "\n",
    "plt.legend([\"kept\", \"removed\"])\n",
    "plt.xticks(rotation = 90)\n",
    "plt.xlabel(\"Letter Class\")\n",
    "plt.ylabel(\"Count (Images)\")\n",
    "plt.title(\"Counts of 'Duplicate' Monkbrill2 Images per Class\")\n",
    "plt.show()"
   ]
  },
  {
   "cell_type": "code",
   "execution_count": null,
   "metadata": {},
   "outputs": [],
   "source": [
    "from PIL import Image, ImageFont, ImageDraw, ImageChops\n",
    "import matplotlib.pyplot as plt\n",
    "import os\n",
    "import numpy as np\n",
    "import random\n",
    "import math\n",
    "import cv2\n",
    "\n",
    "path =\"Data/dssLetters/train_copy/He/navis-QIrug-Qumran_extr09_2024-line-024-y1=863-y2=981-zone-HUMAN-x=1481-y=0038-w=0036-h=0039-ybas=0057-nink=572-segm=COCOS5cocos.jpg\"\n",
    "img = cv2.imread(path, cv2.IMREAD_GRAYSCALE)\n",
    "img_size = img.shape\n",
    "print(img_size)\n",
    "\n",
    "whiteImage = Image.new('L', img_size, 255) \n",
    "\n",
    "img = Image.fromarray(img)\n",
    "# to make the image grainy, use this mask. p is the probability that each pixel is made to be white (hence removing parts of the letters)\n",
    "p = 0.4\n",
    "mask = np.random.rand(img_size[0], img_size[1]) > p\n",
    "mask = Image.fromarray(mask)\n",
    "\n",
    "#img = ImageChops.composite(img, whiteImage, mask) \n",
    "\n",
    "\n",
    "img = np.array(img) \n",
    "\n",
    "kernel = np.ones((2, 2), np.uint8)\n",
    "img = cv2.morphologyEx(img, cv2.MORPH_OPEN, kernel, iterations=2)\n",
    "\n",
    "plt.imshow(img, cmap='gray')"
   ]
  }
 ],
 "metadata": {
  "kernelspec": {
   "display_name": ".venv",
   "language": "python",
   "name": "python3"
  },
  "language_info": {
   "codemirror_mode": {
    "name": "ipython",
    "version": 3
   },
   "file_extension": ".py",
   "mimetype": "text/x-python",
   "name": "python",
   "nbconvert_exporter": "python",
   "pygments_lexer": "ipython3",
   "version": "3.11.0"
  },
  "orig_nbformat": 4
 },
 "nbformat": 4,
 "nbformat_minor": 2
}
