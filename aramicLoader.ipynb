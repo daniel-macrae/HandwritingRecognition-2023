{
 "cells": [
  {
   "cell_type": "code",
   "execution_count": 1,
   "metadata": {},
   "outputs": [],
   "source": [
    "from torch.utils.data import Dataset\n",
    "import torchvision.transforms as transforms\n",
    "from PIL import Image\n",
    "import os\n",
    "\n",
    "class aramicCharacterDataset(Dataset):\n",
    "    def __init__(self, dataset_folder_path):\n",
    "        self.root = dataset_folder_path\n",
    "        self.data = self.parseFolders()  # self.data is a list of tuples, which contain (pathToImage, imageClassLabel)\n",
    "\n",
    "        self.convert_tensor = transforms.ToTensor()\n",
    "        self.charcterClasses = os.listdir(self.root)\n",
    "\n",
    "        self.resize_image = transforms.Resize((50,50))\n",
    "\n",
    "    def parseFolders(self): \n",
    "        dataTuples = []\n",
    "        for idx, folderName in enumerate(os.listdir(self.root)):\n",
    "            # path to the images in the folders\n",
    "            imageFolderPath = os.path.join(self.root, folderName)\n",
    "            \n",
    "            label = idx # classification label (index of the classes)\n",
    "            #imageFiles = [f for f in os.listdir(imageFolderPath) if os.path.isfile(os.path.join(imageFolderPath, f))]\n",
    "            \n",
    "            for imgFilename in os.listdir(imageFolderPath):\n",
    "                \n",
    "                # path to each image file\n",
    "                imgPath = os.path.join(imageFolderPath, imgFilename)\n",
    "                if os.path.isdir(imgPath):\n",
    "                    # skip directories\n",
    "                    continue\n",
    "                dataTuples.append( (imgPath,label) ) # (path to the image, classification label)\n",
    "\n",
    "        return dataTuples\n",
    "\n",
    "    def __getitem__(self, index):\n",
    "        path, label = self.data[index]\n",
    "        img = Image.open(path)\n",
    "        \n",
    "        input_img = self.convert_tensor(img)\n",
    "        input_img = self.resize_image(input_img)  # RESIZING?\n",
    "\n",
    "        #print(input_img.shape)\n",
    "\n",
    "        return input_img, label\n",
    "    \n",
    "    def __len__(self):\n",
    "        return len(self.data)\n",
    "        "
   ]
  },
  {
   "cell_type": "code",
   "execution_count": 19,
   "metadata": {},
   "outputs": [],
   "source": [
    "from torch.utils.data import DataLoader\n",
    "import numpy as np\n",
    "from torch.utils.data.sampler import SubsetRandomSampler\n",
    "import torch\n",
    "\n",
    "def collate_fn(batch):\n",
    "    return tuple(zip(*batch))\n",
    "\n",
    "dataSource = \"monkbrill\"\n",
    "\n",
    "dataset = aramicCharacterDataset(dataSource)\n",
    "\n",
    "CLASSES = dataset.charcterClasses\n",
    "\n",
    "# make train and test splits from the single dataset source (above)\n",
    "batch_size = 1\n",
    "validation_split = .2\n",
    "shuffle_dataset = True\n",
    "random_seed = 42\n",
    "\n",
    "# set indicies of training and validation set\n",
    "dataset_size = len(dataset)\n",
    "indices = list(range(dataset_size))\n",
    "split = int(np.floor(validation_split * dataset_size))\n",
    "if shuffle_dataset :\n",
    "    np.random.seed(random_seed)\n",
    "    np.random.shuffle(indices)\n",
    "train_indices, val_indices = indices[split:], indices[:split]\n",
    "\n",
    "# Creating train and validation data samplers and loaders:\n",
    "train_sampler = SubsetRandomSampler(train_indices)\n",
    "validation_sampler = SubsetRandomSampler(val_indices)\n",
    "\n",
    "train_loader = DataLoader(dataset, batch_size=batch_size, sampler=train_sampler, collate_fn=collate_fn)\n",
    "validation_loader = DataLoader(dataset, batch_size=batch_size, sampler=validation_sampler, collate_fn=collate_fn)\n",
    "\n",
    "\n",
    "# old way, using seperate folders (code from the DL project)\n",
    "#dataLoader = DataLoader(dataset, batch_size=1, collate_fn=collate_fn, shuffle=True)\n"
   ]
  },
  {
   "attachments": {},
   "cell_type": "markdown",
   "metadata": {},
   "source": [
    "## THE IMAGES ARE DIFFERENT SIZES!!\n",
    "but for now, resized to 50x50 in the \"aramicCharacterDataset\" class"
   ]
  },
  {
   "cell_type": "code",
   "execution_count": 37,
   "metadata": {},
   "outputs": [
    {
     "name": "stdout",
     "output_type": "stream",
     "text": [
      "(18,)\n"
     ]
    },
    {
     "data": {
      "text/plain": [
       "<matplotlib.image.AxesImage at 0x238aec9e390>"
      ]
     },
     "execution_count": 37,
     "metadata": {},
     "output_type": "execute_result"
    },
    {
     "data": {
      "image/png": "[encoded data removed]",
      "text/plain": [
       "<Figure size 640x480 with 1 Axes>"
      ]
     },
     "metadata": {},
     "output_type": "display_data"
    }
   ],
   "source": [
    "import matplotlib.pyplot as plt\n",
    "\n",
    "imgs, targets = next(iter(train_loader))\n",
    "\n",
    "print(targets)\n",
    "plt.imshow(imgs[0][0], cmap='gray')"
   ]
  },
  {
   "cell_type": "code",
   "execution_count": 18,
   "metadata": {},
   "outputs": [
    {
     "data": {
      "text/plain": [
       "(tensor([[[1., 1., 1.,  ..., 1., 1., 1.],\n",
       "          [1., 1., 1.,  ..., 1., 1., 1.],\n",
       "          [1., 1., 1.,  ..., 1., 1., 1.],\n",
       "          ...,\n",
       "          [1., 1., 1.,  ..., 1., 1., 1.],\n",
       "          [1., 1., 1.,  ..., 1., 1., 1.],\n",
       "          [1., 1., 1.,  ..., 1., 1., 1.]]]),\n",
       " tensor([[[0.9961, 0.9961, 0.9961,  ..., 0.9961, 0.9961, 0.9961],\n",
       "          [0.9961, 0.9961, 0.9961,  ..., 0.9961, 0.9961, 0.9961],\n",
       "          [0.9961, 0.9961, 0.9961,  ..., 0.9961, 0.9961, 0.9961],\n",
       "          ...,\n",
       "          [1.0000, 1.0000, 1.0000,  ..., 1.0000, 1.0000, 1.0000],\n",
       "          [1.0000, 1.0000, 1.0000,  ..., 1.0000, 1.0000, 1.0000],\n",
       "          [1.0000, 1.0000, 1.0000,  ..., 1.0000, 1.0000, 1.0000]]]),\n",
       " tensor([[[1., 1., 1.,  ..., 1., 1., 1.],\n",
       "          [1., 1., 1.,  ..., 1., 1., 1.],\n",
       "          [1., 1., 1.,  ..., 1., 1., 1.],\n",
       "          ...,\n",
       "          [1., 1., 1.,  ..., 1., 1., 1.],\n",
       "          [1., 1., 1.,  ..., 1., 1., 1.],\n",
       "          [1., 1., 1.,  ..., 1., 1., 1.]]]),\n",
       " tensor([[[0.9961, 0.9961, 0.9961,  ..., 0.9961, 0.9961, 0.9961],\n",
       "          [0.9961, 0.9961, 0.9961,  ..., 0.9961, 0.9961, 0.9961],\n",
       "          [0.9961, 0.9961, 0.9961,  ..., 0.9961, 0.9961, 0.9961],\n",
       "          ...,\n",
       "          [1.0000, 1.0000, 1.0000,  ..., 1.0000, 1.0000, 1.0000],\n",
       "          [1.0000, 1.0000, 1.0000,  ..., 1.0000, 1.0000, 1.0000],\n",
       "          [1.0000, 1.0000, 1.0000,  ..., 1.0000, 1.0000, 1.0000]]]),\n",
       " tensor([[[1.0000, 1.0000, 1.0000,  ..., 1.0000, 1.0000, 1.0000],\n",
       "          [1.0000, 1.0000, 1.0000,  ..., 1.0000, 1.0000, 1.0000],\n",
       "          [1.0000, 1.0000, 1.0000,  ..., 1.0000, 1.0000, 1.0000],\n",
       "          ...,\n",
       "          [1.0000, 1.0000, 1.0000,  ..., 1.0000, 1.0000, 1.0000],\n",
       "          [1.0000, 1.0000, 1.0000,  ..., 1.0000, 1.0000, 1.0000],\n",
       "          [1.0000, 1.0000, 1.0000,  ..., 1.0000, 1.0000, 1.0000]]]),\n",
       " tensor([[[0.9961, 0.9961, 0.9961,  ..., 0.9961, 0.9961, 0.9961],\n",
       "          [0.9961, 0.9961, 0.9961,  ..., 0.9961, 0.9961, 0.9961],\n",
       "          [0.9961, 0.9961, 0.9961,  ..., 0.9961, 0.9961, 0.9961],\n",
       "          ...,\n",
       "          [1.0000, 1.0000, 1.0000,  ..., 1.0000, 1.0000, 1.0000],\n",
       "          [1.0000, 1.0000, 1.0000,  ..., 1.0000, 1.0000, 1.0000],\n",
       "          [1.0000, 1.0000, 1.0000,  ..., 1.0000, 1.0000, 1.0000]]]),\n",
       " tensor([[[1., 1., 1.,  ..., 1., 1., 1.],\n",
       "          [1., 1., 1.,  ..., 1., 1., 1.],\n",
       "          [1., 1., 1.,  ..., 1., 1., 1.],\n",
       "          ...,\n",
       "          [1., 1., 1.,  ..., 1., 1., 1.],\n",
       "          [1., 1., 1.,  ..., 1., 1., 1.],\n",
       "          [1., 1., 1.,  ..., 1., 1., 1.]]]),\n",
       " tensor([[[1., 1., 1.,  ..., 1., 1., 1.],\n",
       "          [1., 1., 1.,  ..., 1., 1., 1.],\n",
       "          [1., 1., 1.,  ..., 1., 1., 1.],\n",
       "          ...,\n",
       "          [1., 1., 1.,  ..., 1., 1., 1.],\n",
       "          [1., 1., 1.,  ..., 1., 1., 1.],\n",
       "          [1., 1., 1.,  ..., 1., 1., 1.]]]))"
      ]
     },
     "execution_count": 18,
     "metadata": {},
     "output_type": "execute_result"
    }
   ],
   "source": [
    "imgs"
   ]
  }
 ],
 "metadata": {
  "kernelspec": {
   "display_name": "Python 3",
   "language": "python",
   "name": "python3"
  },
  "language_info": {
   "codemirror_mode": {
    "name": "ipython",
    "version": 3
   },
   "file_extension": ".py",
   "mimetype": "text/x-python",
   "name": "python",
   "nbconvert_exporter": "python",
   "pygments_lexer": "ipython3",
   "version": "3.11.0"
  },
  "orig_nbformat": 4
 },
 "nbformat": 4,
 "nbformat_minor": 2
}
