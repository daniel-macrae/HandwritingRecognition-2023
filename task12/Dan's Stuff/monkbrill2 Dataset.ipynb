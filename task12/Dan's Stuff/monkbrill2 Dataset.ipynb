{
 "cells": [
  {
   "attachments": {},
   "cell_type": "markdown",
   "metadata": {},
   "source": [
    "# Loading the Monkbrill2 Datasets\n",
    "The code just under this shows how to load the monkbrill2 data, once its been split up into training, testing and validation sets (and augmented).\n",
    "\n",
    "Under this is the code that does this splitting"
   ]
  },
  {
   "cell_type": "code",
   "execution_count": 187,
   "metadata": {},
   "outputs": [],
   "source": [
    "from data_management.loadDSSCharacters import dssLettersDataset\n",
    "from data_management.datasetSplitter import datasetSplitter, collate_fn\n",
    "\n",
    "from torch.utils.data import DataLoader\n",
    "\n",
    "BATCH_SIZE = 1\n",
    "shuffle_loaders = True\n",
    "\n",
    "\n",
    "train_folder = \"Data/dssLetters/train/\"\n",
    "val_folder = \"Data/dssLetters/validation/\"\n",
    "test_folder = \"Data/dssLetters/test/\"\n",
    "\n",
    "train_dataset = dssLettersDataset(folder_path=train_folder)\n",
    "val_dataset = dssLettersDataset(folder_path=val_folder)\n",
    "test_dataset = dssLettersDataset(folder_path=train_folder)\n",
    "\n",
    "\n",
    "train_loader = DataLoader(train_dataset, batch_size=BATCH_SIZE, collate_fn=collate_fn, shuffle=shuffle_loaders)\n",
    "val_loader = DataLoader(val_dataset, batch_size=BATCH_SIZE, collate_fn=collate_fn, shuffle=shuffle_loaders)\n",
    "test_loader = DataLoader(test_dataset, batch_size=BATCH_SIZE, collate_fn=collate_fn, shuffle=shuffle_loaders)\n",
    "\n",
    "\n",
    "characterClasses = train_dataset.characterClasses\n",
    "\n",
    "#train_loader, validation_loader = datasetSplitter(dataset, batch_size=1, validation_split=0.2)"
   ]
  },
  {
   "cell_type": "code",
   "execution_count": 194,
   "metadata": {},
   "outputs": [
    {
     "name": "stdout",
     "output_type": "stream",
     "text": [
      "(50, 50)\n"
     ]
    },
    {
     "data": {
      "image/png": "[encoded data removed]",
      "text/plain": [
       "<Figure size 640x480 with 1 Axes>"
      ]
     },
     "metadata": {},
     "output_type": "display_data"
    }
   ],
   "source": [
    "import matplotlib.pyplot as plt\n",
    "\n",
    "# plot some random character images\n",
    "\n",
    "imgs, targets = next(iter(train_loader))\n",
    "\n",
    "plt.imshow(imgs[0].permute(1,2,0), cmap='gray')\n",
    "plt.title(characterClasses[targets[0]])\n",
    "plt.show()"
   ]
  }
 ],
 "metadata": {
  "kernelspec": {
   "display_name": ".venv",
   "language": "python",
   "name": "python3"
  },
  "language_info": {
   "codemirror_mode": {
    "name": "ipython",
    "version": 3
   },
   "file_extension": ".py",
   "mimetype": "text/x-python",
   "name": "python",
   "nbconvert_exporter": "python",
   "pygments_lexer": "ipython3",
   "version": "3.11.0"
  },
  "orig_nbformat": 4
 },
 "nbformat": 4,
 "nbformat_minor": 2
}
